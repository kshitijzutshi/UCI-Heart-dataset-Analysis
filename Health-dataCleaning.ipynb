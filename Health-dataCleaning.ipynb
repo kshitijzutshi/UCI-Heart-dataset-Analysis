{
 "cells": [
  {
   "cell_type": "markdown",
   "id": "a6234f00-5fc7-4040-b8b2-1d0a19da185a",
   "metadata": {},
   "source": [
    "## Abstract\n",
    "\n",
    "The task is to perform data cleaning on the given heart.csv dataset.The dataset is procured from the [UCI Heart disease dataset](https://www.kaggle.com/ronitf/heart-disease-uci). The \"goal\" field refers to the presence of heart disease in the patient. It is integer valued from 0 (no presence) to 1. In the process following aspects of the data are checked - \n",
    "\n",
    "- Identifying Outliers and removing if any\n",
    "- Imputing missing values ie., look at multiple methods for imputing categorical, numeric, and time-series data\n",
    "- Adjusts for bias in the dataset\n",
    "- Compare and contrast metrics to observe what changed from Original to changed dataset\n",
    "- Visualize the metrics to observe what changed from Original to changed dataset\n",
    "\n",
    "\n",
    "In order to perform the task, first the EDA (using seaborn/matplotlib) was done to get a sense of the data. Later on various techniques of data cleaning are applied to the dataset and/or suggested for any other type of dataset as well(say dataset had time-series).\n",
    "\n",
    "\n",
    "```\n",
    "Acknowledgements\n",
    "\n",
    "Creators:\n",
    "\n",
    "    Hungarian Institute of Cardiology. Budapest: Andras Janosi, M.D.\n",
    "    University Hospital, Zurich, Switzerland: William Steinbrunn, M.D.\n",
    "    University Hospital, Basel, Switzerland: Matthias Pfisterer, M.D.\n",
    "    V.A. Medical Center, Long Beach and Cleveland Clinic Foundation: Robert Detrano, M.D., Ph.D.\n",
    "\n",
    "Donor:\n",
    "David W. Aha (aha '@' ics.uci.edu) (714) 856-8779 \n",
    "```"
   ]
  },
  {
   "cell_type": "markdown",
   "id": "11a0534c-adcf-433c-ab5e-c94951a9d172",
   "metadata": {},
   "source": [
    "### 1.1 Importing necessary libraries"
   ]
  },
  {
   "cell_type": "code",
   "execution_count": 1,
   "id": "01eac3a0-fcb1-410a-af86-27186151a0b0",
   "metadata": {},
   "outputs": [],
   "source": [
    "import pandas as pd\n",
    "import seaborn as sns\n",
    "from numpy import unique\n",
    "import numpy as np\n",
    "from math import sqrt\n",
    "import matplotlib.pyplot as plt\n",
    "from pandas.plotting import scatter_matrix\n",
    "from sklearn.pipeline import make_pipeline\n",
    "from sklearn.preprocessing import StandardScaler, MinMaxScaler\n",
    "# from fitter import Fitter, get_common_distributions, get_distributions\n",
    "from matplotlib import pyplot"
   ]
  },
  {
   "cell_type": "markdown",
   "id": "8a615331-8bfc-426f-afd6-5b52d271623f",
   "metadata": {},
   "source": [
    "### 1.2 Loading the dataset"
   ]
  },
  {
   "cell_type": "code",
   "execution_count": 2,
   "id": "39d8c0f7-bf7a-4080-92cb-589ef40aa493",
   "metadata": {},
   "outputs": [],
   "source": [
    "dataset = pd.read_csv('/home/zutshi.k/squark/heart.csv')\n",
    "data_df = pd.DataFrame(dataset)"
   ]
  },
  {
   "cell_type": "markdown",
   "id": "1ba58ef4-4013-4075-8d27-10a0a5ffa955",
   "metadata": {},
   "source": [
    "### 2. Summarizing the dataset\n",
    "\n",
    "In this step we are going to take a look at the data a few different ways:\n",
    "\n",
    "    1. Dimensions of the dataset.\n",
    "    2. Peek at the data itself.\n",
    "    3. Statistical summary of all attributes.\n"
   ]
  },
  {
   "cell_type": "markdown",
   "id": "d6b20c27-7c7f-4cee-83ed-6f45f9f371e2",
   "metadata": {},
   "source": [
    "#### 2.1 Dimentions of the dataset\n",
    "\n",
    "As we can see the dataset has 303 instances and 14 attributes(including the Target dependent variable)"
   ]
  },
  {
   "cell_type": "code",
   "execution_count": 3,
   "id": "9322cc4c-45e5-4990-ba23-53410d702c21",
   "metadata": {},
   "outputs": [
    {
     "data": {
      "text/plain": [
       "(303, 14)"
      ]
     },
     "execution_count": 3,
     "metadata": {},
     "output_type": "execute_result"
    }
   ],
   "source": [
    "data_df.shape"
   ]
  },
  {
   "cell_type": "markdown",
   "id": "e1da6c09-052e-428e-ac9a-e05136f2acfc",
   "metadata": {},
   "source": [
    "#### 2.2 Peak at the dataset sample"
   ]
  },
  {
   "cell_type": "code",
   "execution_count": 4,
   "id": "42b742d5-6116-403c-950d-454a39df926a",
   "metadata": {},
   "outputs": [
    {
     "data": {
      "text/html": [
       "<div>\n",
       "<style scoped>\n",
       "    .dataframe tbody tr th:only-of-type {\n",
       "        vertical-align: middle;\n",
       "    }\n",
       "\n",
       "    .dataframe tbody tr th {\n",
       "        vertical-align: top;\n",
       "    }\n",
       "\n",
       "    .dataframe thead th {\n",
       "        text-align: right;\n",
       "    }\n",
       "</style>\n",
       "<table border=\"1\" class=\"dataframe\">\n",
       "  <thead>\n",
       "    <tr style=\"text-align: right;\">\n",
       "      <th></th>\n",
       "      <th>age</th>\n",
       "      <th>sex</th>\n",
       "      <th>cp</th>\n",
       "      <th>trestbps</th>\n",
       "      <th>chol</th>\n",
       "      <th>fbs</th>\n",
       "      <th>restecg</th>\n",
       "      <th>thalach</th>\n",
       "      <th>exang</th>\n",
       "      <th>oldpeak</th>\n",
       "      <th>slope</th>\n",
       "      <th>ca</th>\n",
       "      <th>thal</th>\n",
       "      <th>target</th>\n",
       "    </tr>\n",
       "  </thead>\n",
       "  <tbody>\n",
       "    <tr>\n",
       "      <th>115</th>\n",
       "      <td>37</td>\n",
       "      <td>0</td>\n",
       "      <td>2</td>\n",
       "      <td>120</td>\n",
       "      <td>215</td>\n",
       "      <td>0</td>\n",
       "      <td>1</td>\n",
       "      <td>170</td>\n",
       "      <td>0</td>\n",
       "      <td>0.0</td>\n",
       "      <td>2</td>\n",
       "      <td>0</td>\n",
       "      <td>2</td>\n",
       "      <td>1</td>\n",
       "    </tr>\n",
       "    <tr>\n",
       "      <th>1</th>\n",
       "      <td>37</td>\n",
       "      <td>1</td>\n",
       "      <td>2</td>\n",
       "      <td>130</td>\n",
       "      <td>250</td>\n",
       "      <td>0</td>\n",
       "      <td>1</td>\n",
       "      <td>187</td>\n",
       "      <td>0</td>\n",
       "      <td>3.5</td>\n",
       "      <td>0</td>\n",
       "      <td>0</td>\n",
       "      <td>2</td>\n",
       "      <td>1</td>\n",
       "    </tr>\n",
       "    <tr>\n",
       "      <th>25</th>\n",
       "      <td>71</td>\n",
       "      <td>0</td>\n",
       "      <td>1</td>\n",
       "      <td>160</td>\n",
       "      <td>302</td>\n",
       "      <td>0</td>\n",
       "      <td>1</td>\n",
       "      <td>162</td>\n",
       "      <td>0</td>\n",
       "      <td>0.4</td>\n",
       "      <td>2</td>\n",
       "      <td>2</td>\n",
       "      <td>2</td>\n",
       "      <td>1</td>\n",
       "    </tr>\n",
       "    <tr>\n",
       "      <th>259</th>\n",
       "      <td>38</td>\n",
       "      <td>1</td>\n",
       "      <td>3</td>\n",
       "      <td>120</td>\n",
       "      <td>231</td>\n",
       "      <td>0</td>\n",
       "      <td>1</td>\n",
       "      <td>182</td>\n",
       "      <td>1</td>\n",
       "      <td>3.8</td>\n",
       "      <td>1</td>\n",
       "      <td>0</td>\n",
       "      <td>3</td>\n",
       "      <td>0</td>\n",
       "    </tr>\n",
       "    <tr>\n",
       "      <th>41</th>\n",
       "      <td>48</td>\n",
       "      <td>1</td>\n",
       "      <td>1</td>\n",
       "      <td>130</td>\n",
       "      <td>245</td>\n",
       "      <td>0</td>\n",
       "      <td>0</td>\n",
       "      <td>180</td>\n",
       "      <td>0</td>\n",
       "      <td>0.2</td>\n",
       "      <td>1</td>\n",
       "      <td>0</td>\n",
       "      <td>2</td>\n",
       "      <td>1</td>\n",
       "    </tr>\n",
       "  </tbody>\n",
       "</table>\n",
       "</div>"
      ],
      "text/plain": [
       "     age  sex  cp  trestbps  chol  fbs  restecg  thalach  exang  oldpeak  \\\n",
       "115   37    0   2       120   215    0        1      170      0      0.0   \n",
       "1     37    1   2       130   250    0        1      187      0      3.5   \n",
       "25    71    0   1       160   302    0        1      162      0      0.4   \n",
       "259   38    1   3       120   231    0        1      182      1      3.8   \n",
       "41    48    1   1       130   245    0        0      180      0      0.2   \n",
       "\n",
       "     slope  ca  thal  target  \n",
       "115      2   0     2       1  \n",
       "1        0   0     2       1  \n",
       "25       2   2     2       1  \n",
       "259      1   0     3       0  \n",
       "41       1   0     2       1  "
      ]
     },
     "execution_count": 4,
     "metadata": {},
     "output_type": "execute_result"
    }
   ],
   "source": [
    "# look at a sample of rows from the dataframe\n",
    "data_df.sample(5)"
   ]
  },
  {
   "cell_type": "markdown",
   "id": "09893a89-829c-4fe7-81a1-21f9a2ede9c6",
   "metadata": {},
   "source": [
    "#### 2.3 Statistical and info summary of the dataset\n",
    "\n",
    "#### Dataset Description\n",
    "\n",
    "**age**\n",
    "\n",
    "**sex** - (1 = male; 0 = female)\n",
    "\n",
    "**cp** - chest pain type (4 values)\n",
    "\n",
    "**trestbps** - resting blood pressure\n",
    "\n",
    "**chol** - serum cholestoral in mg/dl\n",
    "\n",
    "**fbs** - fasting blood sugar > 120 mg/dl (1 = true; 0 = false) \n",
    "\n",
    "**restecg** - resting electrocardiographic results (values 0,1,2)\n",
    "\n",
    "**thalach** - maximum heart rate achieved\n",
    "\n",
    "**exang** -exercise induced angina (1 = yes; 0 = no) | Stable angina is usually triggered by physical activity. When you climb stairs, exercise or walk, your heart demands more blood, but narrowed arteries slow down blood flow.\n",
    "\n",
    "**oldpeak** -  ST depression induced by exercise relative to rest\n",
    "\n",
    "**slope** - the slope of the peak exercise ST segment\n",
    "\n",
    "**ca** - number of major vessels (0-3) colored by flourosopy\n",
    "\n",
    "**thal** - 3 = normal; 6 = fixed defect; 7 = reversable defect"
   ]
  },
  {
   "cell_type": "code",
   "execution_count": 5,
   "id": "60d1bed2-c5d2-44a9-99ff-bc4258c43620",
   "metadata": {},
   "outputs": [
    {
     "name": "stdout",
     "output_type": "stream",
     "text": [
      "<class 'pandas.core.frame.DataFrame'>\n",
      "RangeIndex: 303 entries, 0 to 302\n",
      "Data columns (total 14 columns):\n",
      " #   Column    Non-Null Count  Dtype  \n",
      "---  ------    --------------  -----  \n",
      " 0   age       303 non-null    int64  \n",
      " 1   sex       303 non-null    int64  \n",
      " 2   cp        303 non-null    int64  \n",
      " 3   trestbps  303 non-null    int64  \n",
      " 4   chol      303 non-null    int64  \n",
      " 5   fbs       303 non-null    int64  \n",
      " 6   restecg   303 non-null    int64  \n",
      " 7   thalach   303 non-null    int64  \n",
      " 8   exang     303 non-null    int64  \n",
      " 9   oldpeak   303 non-null    float64\n",
      " 10  slope     303 non-null    int64  \n",
      " 11  ca        303 non-null    int64  \n",
      " 12  thal      303 non-null    int64  \n",
      " 13  target    303 non-null    int64  \n",
      "dtypes: float64(1), int64(13)\n",
      "memory usage: 33.3 KB\n"
     ]
    }
   ],
   "source": [
    "data_df.info()"
   ]
  },
  {
   "cell_type": "markdown",
   "id": "0e99e8bd-2c5f-4efd-8f8e-ac09ff55ec17",
   "metadata": {},
   "source": [
    "In this dataset, we have **categorical variables** that have been label encoded already such as - **sex, cp, fbs, restecg, exang, ca and thal** and rest are **numeric**, we dont have any time series dtype in this dataset.\n"
   ]
  },
  {
   "cell_type": "code",
   "execution_count": 6,
   "id": "0b1c9347-7fb8-43d2-be78-0bbff5391a39",
   "metadata": {},
   "outputs": [
    {
     "data": {
      "text/html": [
       "<div>\n",
       "<style scoped>\n",
       "    .dataframe tbody tr th:only-of-type {\n",
       "        vertical-align: middle;\n",
       "    }\n",
       "\n",
       "    .dataframe tbody tr th {\n",
       "        vertical-align: top;\n",
       "    }\n",
       "\n",
       "    .dataframe thead th {\n",
       "        text-align: right;\n",
       "    }\n",
       "</style>\n",
       "<table border=\"1\" class=\"dataframe\">\n",
       "  <thead>\n",
       "    <tr style=\"text-align: right;\">\n",
       "      <th></th>\n",
       "      <th>age</th>\n",
       "      <th>sex</th>\n",
       "      <th>cp</th>\n",
       "      <th>trestbps</th>\n",
       "      <th>chol</th>\n",
       "      <th>fbs</th>\n",
       "      <th>restecg</th>\n",
       "      <th>thalach</th>\n",
       "      <th>exang</th>\n",
       "      <th>oldpeak</th>\n",
       "      <th>slope</th>\n",
       "      <th>ca</th>\n",
       "      <th>thal</th>\n",
       "      <th>target</th>\n",
       "    </tr>\n",
       "  </thead>\n",
       "  <tbody>\n",
       "    <tr>\n",
       "      <th>count</th>\n",
       "      <td>303.000000</td>\n",
       "      <td>303.000000</td>\n",
       "      <td>303.000000</td>\n",
       "      <td>303.000000</td>\n",
       "      <td>303.000000</td>\n",
       "      <td>303.000000</td>\n",
       "      <td>303.000000</td>\n",
       "      <td>303.000000</td>\n",
       "      <td>303.000000</td>\n",
       "      <td>303.000000</td>\n",
       "      <td>303.000000</td>\n",
       "      <td>303.000000</td>\n",
       "      <td>303.000000</td>\n",
       "      <td>303.000000</td>\n",
       "    </tr>\n",
       "    <tr>\n",
       "      <th>mean</th>\n",
       "      <td>54.366337</td>\n",
       "      <td>0.683168</td>\n",
       "      <td>0.966997</td>\n",
       "      <td>131.623762</td>\n",
       "      <td>246.264026</td>\n",
       "      <td>0.148515</td>\n",
       "      <td>0.528053</td>\n",
       "      <td>149.646865</td>\n",
       "      <td>0.326733</td>\n",
       "      <td>1.039604</td>\n",
       "      <td>1.399340</td>\n",
       "      <td>0.729373</td>\n",
       "      <td>2.313531</td>\n",
       "      <td>0.544554</td>\n",
       "    </tr>\n",
       "    <tr>\n",
       "      <th>std</th>\n",
       "      <td>9.082101</td>\n",
       "      <td>0.466011</td>\n",
       "      <td>1.032052</td>\n",
       "      <td>17.538143</td>\n",
       "      <td>51.830751</td>\n",
       "      <td>0.356198</td>\n",
       "      <td>0.525860</td>\n",
       "      <td>22.905161</td>\n",
       "      <td>0.469794</td>\n",
       "      <td>1.161075</td>\n",
       "      <td>0.616226</td>\n",
       "      <td>1.022606</td>\n",
       "      <td>0.612277</td>\n",
       "      <td>0.498835</td>\n",
       "    </tr>\n",
       "    <tr>\n",
       "      <th>min</th>\n",
       "      <td>29.000000</td>\n",
       "      <td>0.000000</td>\n",
       "      <td>0.000000</td>\n",
       "      <td>94.000000</td>\n",
       "      <td>126.000000</td>\n",
       "      <td>0.000000</td>\n",
       "      <td>0.000000</td>\n",
       "      <td>71.000000</td>\n",
       "      <td>0.000000</td>\n",
       "      <td>0.000000</td>\n",
       "      <td>0.000000</td>\n",
       "      <td>0.000000</td>\n",
       "      <td>0.000000</td>\n",
       "      <td>0.000000</td>\n",
       "    </tr>\n",
       "    <tr>\n",
       "      <th>25%</th>\n",
       "      <td>47.500000</td>\n",
       "      <td>0.000000</td>\n",
       "      <td>0.000000</td>\n",
       "      <td>120.000000</td>\n",
       "      <td>211.000000</td>\n",
       "      <td>0.000000</td>\n",
       "      <td>0.000000</td>\n",
       "      <td>133.500000</td>\n",
       "      <td>0.000000</td>\n",
       "      <td>0.000000</td>\n",
       "      <td>1.000000</td>\n",
       "      <td>0.000000</td>\n",
       "      <td>2.000000</td>\n",
       "      <td>0.000000</td>\n",
       "    </tr>\n",
       "    <tr>\n",
       "      <th>50%</th>\n",
       "      <td>55.000000</td>\n",
       "      <td>1.000000</td>\n",
       "      <td>1.000000</td>\n",
       "      <td>130.000000</td>\n",
       "      <td>240.000000</td>\n",
       "      <td>0.000000</td>\n",
       "      <td>1.000000</td>\n",
       "      <td>153.000000</td>\n",
       "      <td>0.000000</td>\n",
       "      <td>0.800000</td>\n",
       "      <td>1.000000</td>\n",
       "      <td>0.000000</td>\n",
       "      <td>2.000000</td>\n",
       "      <td>1.000000</td>\n",
       "    </tr>\n",
       "    <tr>\n",
       "      <th>75%</th>\n",
       "      <td>61.000000</td>\n",
       "      <td>1.000000</td>\n",
       "      <td>2.000000</td>\n",
       "      <td>140.000000</td>\n",
       "      <td>274.500000</td>\n",
       "      <td>0.000000</td>\n",
       "      <td>1.000000</td>\n",
       "      <td>166.000000</td>\n",
       "      <td>1.000000</td>\n",
       "      <td>1.600000</td>\n",
       "      <td>2.000000</td>\n",
       "      <td>1.000000</td>\n",
       "      <td>3.000000</td>\n",
       "      <td>1.000000</td>\n",
       "    </tr>\n",
       "    <tr>\n",
       "      <th>max</th>\n",
       "      <td>77.000000</td>\n",
       "      <td>1.000000</td>\n",
       "      <td>3.000000</td>\n",
       "      <td>200.000000</td>\n",
       "      <td>564.000000</td>\n",
       "      <td>1.000000</td>\n",
       "      <td>2.000000</td>\n",
       "      <td>202.000000</td>\n",
       "      <td>1.000000</td>\n",
       "      <td>6.200000</td>\n",
       "      <td>2.000000</td>\n",
       "      <td>4.000000</td>\n",
       "      <td>3.000000</td>\n",
       "      <td>1.000000</td>\n",
       "    </tr>\n",
       "  </tbody>\n",
       "</table>\n",
       "</div>"
      ],
      "text/plain": [
       "              age         sex          cp    trestbps        chol         fbs  \\\n",
       "count  303.000000  303.000000  303.000000  303.000000  303.000000  303.000000   \n",
       "mean    54.366337    0.683168    0.966997  131.623762  246.264026    0.148515   \n",
       "std      9.082101    0.466011    1.032052   17.538143   51.830751    0.356198   \n",
       "min     29.000000    0.000000    0.000000   94.000000  126.000000    0.000000   \n",
       "25%     47.500000    0.000000    0.000000  120.000000  211.000000    0.000000   \n",
       "50%     55.000000    1.000000    1.000000  130.000000  240.000000    0.000000   \n",
       "75%     61.000000    1.000000    2.000000  140.000000  274.500000    0.000000   \n",
       "max     77.000000    1.000000    3.000000  200.000000  564.000000    1.000000   \n",
       "\n",
       "          restecg     thalach       exang     oldpeak       slope          ca  \\\n",
       "count  303.000000  303.000000  303.000000  303.000000  303.000000  303.000000   \n",
       "mean     0.528053  149.646865    0.326733    1.039604    1.399340    0.729373   \n",
       "std      0.525860   22.905161    0.469794    1.161075    0.616226    1.022606   \n",
       "min      0.000000   71.000000    0.000000    0.000000    0.000000    0.000000   \n",
       "25%      0.000000  133.500000    0.000000    0.000000    1.000000    0.000000   \n",
       "50%      1.000000  153.000000    0.000000    0.800000    1.000000    0.000000   \n",
       "75%      1.000000  166.000000    1.000000    1.600000    2.000000    1.000000   \n",
       "max      2.000000  202.000000    1.000000    6.200000    2.000000    4.000000   \n",
       "\n",
       "             thal      target  \n",
       "count  303.000000  303.000000  \n",
       "mean     2.313531    0.544554  \n",
       "std      0.612277    0.498835  \n",
       "min      0.000000    0.000000  \n",
       "25%      2.000000    0.000000  \n",
       "50%      2.000000    1.000000  \n",
       "75%      3.000000    1.000000  \n",
       "max      3.000000    1.000000  "
      ]
     },
     "execution_count": 6,
     "metadata": {},
     "output_type": "execute_result"
    }
   ],
   "source": [
    "data_df.describe()"
   ]
  },
  {
   "cell_type": "markdown",
   "id": "61fb3c92-2b40-424f-a618-da0dd5e30071",
   "metadata": {},
   "source": [
    "#### Important findings from the desciptive stats\n",
    "\n",
    "- **Majority** of the subjects are **males** (sex = 1) and the **maximum age** of a subject was **77 years**\n",
    "- 50% of the data is for subjects with type 0 and type 1 Chest pain, 75% of the data is for subjects with chest pain type of 0,1,2\n",
    "- Having **rest blood pressure** of a subject reaching **max of 200 seems odd**, **normally by age maximum possible resting BP can be 145**, those with high rest BP also show Chest pain type 3 (perhaps extreme)\n",
    "- **Cholestrol by any age or gender** can reach upto **239 borderline**, a **max of 564 is very unlikely**. Also given that 75% of the subjects have cholestrol lower than 274 means majority of the subjects must have the target variable to be 1(having heart disease), if this is not the case, the dataset may have flaws\n",
    "- thalach - maximum hear rate achieved to be 202 is unlikely as max age of subject is 77, we know that **max. heart rate is calculated as (220-age)** by this formula, the value seems way off expected\n",
    "\n",
    "📌 To answer is the **ranges make sense** for certain columns? - for **trestbps, chol, thalach the ranges dont make sense** due to absurd extreme values and inter quartile range."
   ]
  },
  {
   "cell_type": "markdown",
   "id": "f60b14a3-2dde-47ef-92dc-5ef13f0fa68a",
   "metadata": {},
   "source": [
    "### 3. Data Visualization\n",
    "\n",
    "We now have a basic idea about the data. We need to extend that with some visualizations.\n",
    "\n",
    "We are going to look at two types of plots:\n",
    "\n",
    "    - Univariate plots to better understand each attribute.\n",
    "\n",
    "    - Multivariate plots to better understand the relationships between attributes.\n"
   ]
  },
  {
   "cell_type": "markdown",
   "id": "da336b13-3ff5-4f46-bd05-a1f5ae26ac2f",
   "metadata": {},
   "source": [
    "#### 3.1 Univariate Plots"
   ]
  },
  {
   "cell_type": "code",
   "execution_count": 7,
   "id": "bff66c84-0a4e-45ec-a389-3d52c162af09",
   "metadata": {},
   "outputs": [
    {
     "data": {
      "image/png": "[encoded data removed]",
      "text/plain": [
       "<Figure size 360x360 with 1 Axes>"
      ]
     },
     "metadata": {},
     "output_type": "display_data"
    }
   ],
   "source": [
    "# Inspecting the Dataset\n",
    "# The pie plot is for getting an overview of total number of heart disease/no heart disease patients\n",
    "# The autopct set at 2 decimal to get a precise idea of the segregation of target values.\n",
    "plot = data_df.target.value_counts().plot.pie(y='Heart Disease', figsize=(5, 5), autopct='%.2f%%').legend(['No Heart Disease', 'Heart disease'], loc=\"best\")"
   ]
  },
  {
   "cell_type": "markdown",
   "id": "6949621b-b238-42b9-8b30-977308f91586",
   "metadata": {},
   "source": [
    "As we can see, the dataset is not skewed/biased to one kind of patient."
   ]
  },
  {
   "cell_type": "code",
   "execution_count": 8,
   "id": "13c3d414-fe56-4ff0-8237-a91af76e0598",
   "metadata": {},
   "outputs": [
    {
     "data": {
      "image/png": "[encoded data removed]",
      "text/plain": [
       "<Figure size 720x360 with 2 Axes>"
      ]
     },
     "metadata": {
      "needs_background": "light"
     },
     "output_type": "display_data"
    },
    {
     "data": {
      "image/png": "[encoded data removed]",
      "text/plain": [
       "<Figure size 720x360 with 2 Axes>"
      ]
     },
     "metadata": {
      "needs_background": "light"
     },
     "output_type": "display_data"
    }
   ],
   "source": [
    "# palette= ['plum','g','orange','b','r']\n",
    "# sns.boxplot(df['p1_satisfaction'], color=\"plum\", width=.5) \n",
    "\n",
    "fig, axs = plt.subplots(ncols=2, figsize=(10,5))\n",
    "\n",
    "sns.boxplot(x='target', y='age', data=data_df, color=\"plum\", width=.5, ax=axs[0]).set_title('Target vs Age', fontsize=14)\n",
    "\n",
    "sns.boxplot(x='target', y='trestbps', data=data_df, color=\"g\", width=.5, ax=axs[1]).set_title('Target vs Resting Blood Pressure', fontsize=14)\n",
    "\n",
    "fig.tight_layout(pad=3.0)\n",
    "\n",
    "fig, axs = plt.subplots(ncols=2, figsize=(10,5))\n",
    "\n",
    "sns.boxplot(x='target', y='chol', data=data_df, color=\"orange\", width=.5, ax=axs[0]).set_title('Target vs serum cholestoral in mg/dl', fontsize=14)\n",
    "\n",
    "sns.boxplot(x='target', y='thalach', data=data_df, color=\"c\", width=.5, ax=axs[1]).set_title('Target vs maximum heart rate achieved', fontsize=14)\n",
    "\n",
    "fig.tight_layout(pad=3.0)\n"
   ]
  },
  {
   "cell_type": "markdown",
   "id": "5abc1bc6-b48e-4fba-a606-5f026a5c9e43",
   "metadata": {},
   "source": [
    "In the above boxplots per target value(0 or 1), the outliers are decided based on how far the datapoint is from the mean.\n",
    "Say in the thalach boxplot, the farthest point is the one where target is 0 and tlach value is below the lower quartile range."
   ]
  },
  {
   "cell_type": "code",
   "execution_count": 9,
   "id": "cc86c8f2-af77-41ef-801d-dc373a96b6a1",
   "metadata": {},
   "outputs": [
    {
     "data": {
      "image/png": "[encoded data removed]",
      "text/plain": [
       "<Figure size 1440x720 with 16 Axes>"
      ]
     },
     "metadata": {
      "needs_background": "light"
     },
     "output_type": "display_data"
    }
   ],
   "source": [
    "data_df.hist(bins=30, figsize=(20,10))\n",
    "plt.show()"
   ]
  },
  {
   "cell_type": "markdown",
   "id": "f73eab5e-aaab-4759-a79d-9dd101be3da0",
   "metadata": {},
   "source": [
    "#### 3.2 Multivariate Plots\n",
    "Now we can look at the interactions between the variables.\n",
    "\n",
    "- First, let’s look at scatterplots of all pairs of attributes. This can be helpful to spot structured relationships between input variables."
   ]
  },
  {
   "cell_type": "code",
   "execution_count": 10,
   "id": "01471e52-db77-483e-8838-1e77c094e257",
   "metadata": {},
   "outputs": [
    {
     "data": {
      "image/png": "[encoded data removed]",
      "text/plain": [
       "<Figure size 1166.4x648 with 30 Axes>"
      ]
     },
     "metadata": {
      "needs_background": "light"
     },
     "output_type": "display_data"
    }
   ],
   "source": [
    "cols = ['age', 'trestbps', 'chol', 'thalach', 'target']\n",
    "pp = sns.pairplot(data_df[cols], height=1.8, aspect=1.8,\n",
    "                  plot_kws={'edgecolor':\"k\", 'linewidth':0.5},\n",
    "                  diag_kind=\"kde\", diag_kws={'shade':True})\n",
    "   \n",
    "fig = pp.fig \n",
    "fig.subplots_adjust(top=0.93, wspace=0.3)\n",
    "t = fig.suptitle('Pairwise Plot - Interaction between age, trestbps, chol and thalach towards Target', fontsize=14)"
   ]
  },
  {
   "cell_type": "markdown",
   "id": "19e4801f-cc1c-409f-9850-4cf2bb3fd116",
   "metadata": {},
   "source": [
    "#### Observations\n",
    "\n",
    "- We can see for the larger age the target is 0 -> no disease despite having appropriate chol, thalach, trestbps in extreme ranges \n",
    "- Between trestbps and target, there are outliers with respect to lower trestbps and having heart disease / higher trestbps and having No heart disease\n",
    "- For chol and thalach there are outliers with respect to target"
   ]
  },
  {
   "cell_type": "markdown",
   "id": "541ba103-0d6e-4d58-a7d9-885afda6a0a2",
   "metadata": {},
   "source": [
    "### 4. Data Cleaning & Dimentionality Reduction\n",
    "\n",
    "1.   Percent missing values - ✅ Using this in notebook\n",
    "2.   Amount of Variation - ✅ Using this in notebook\n",
    "3.   Pairwise Correlation - ✅ Using this in notebook\n",
    "4.   Outlier Detection and Removal - ✅ Using this in notebook"
   ]
  },
  {
   "cell_type": "markdown",
   "id": "cd2c5e93-faef-4e54-9a58-f066f9d74847",
   "metadata": {},
   "source": [
    "#### 4.1 Missing Values Analysis\n",
    "\n",
    "As we can see there are no missing values in the dataset, nevertheless we can look at possible techniques to handle the same."
   ]
  },
  {
   "cell_type": "code",
   "execution_count": 11,
   "id": "f3c2ea84-c89f-4ce2-ba4c-613cf0432eda",
   "metadata": {},
   "outputs": [
    {
     "data": {
      "text/html": [
       "<div>\n",
       "<style scoped>\n",
       "    .dataframe tbody tr th:only-of-type {\n",
       "        vertical-align: middle;\n",
       "    }\n",
       "\n",
       "    .dataframe tbody tr th {\n",
       "        vertical-align: top;\n",
       "    }\n",
       "\n",
       "    .dataframe thead th {\n",
       "        text-align: right;\n",
       "    }\n",
       "</style>\n",
       "<table border=\"1\" class=\"dataframe\">\n",
       "  <thead>\n",
       "    <tr style=\"text-align: right;\">\n",
       "      <th></th>\n",
       "      <th>percent_missing(%)</th>\n",
       "    </tr>\n",
       "  </thead>\n",
       "  <tbody>\n",
       "    <tr>\n",
       "      <th>age</th>\n",
       "      <td>0.0</td>\n",
       "    </tr>\n",
       "    <tr>\n",
       "      <th>sex</th>\n",
       "      <td>0.0</td>\n",
       "    </tr>\n",
       "    <tr>\n",
       "      <th>cp</th>\n",
       "      <td>0.0</td>\n",
       "    </tr>\n",
       "    <tr>\n",
       "      <th>trestbps</th>\n",
       "      <td>0.0</td>\n",
       "    </tr>\n",
       "    <tr>\n",
       "      <th>chol</th>\n",
       "      <td>0.0</td>\n",
       "    </tr>\n",
       "    <tr>\n",
       "      <th>fbs</th>\n",
       "      <td>0.0</td>\n",
       "    </tr>\n",
       "    <tr>\n",
       "      <th>restecg</th>\n",
       "      <td>0.0</td>\n",
       "    </tr>\n",
       "    <tr>\n",
       "      <th>thalach</th>\n",
       "      <td>0.0</td>\n",
       "    </tr>\n",
       "    <tr>\n",
       "      <th>exang</th>\n",
       "      <td>0.0</td>\n",
       "    </tr>\n",
       "    <tr>\n",
       "      <th>oldpeak</th>\n",
       "      <td>0.0</td>\n",
       "    </tr>\n",
       "    <tr>\n",
       "      <th>slope</th>\n",
       "      <td>0.0</td>\n",
       "    </tr>\n",
       "    <tr>\n",
       "      <th>ca</th>\n",
       "      <td>0.0</td>\n",
       "    </tr>\n",
       "    <tr>\n",
       "      <th>thal</th>\n",
       "      <td>0.0</td>\n",
       "    </tr>\n",
       "    <tr>\n",
       "      <th>target</th>\n",
       "      <td>0.0</td>\n",
       "    </tr>\n",
       "  </tbody>\n",
       "</table>\n",
       "</div>"
      ],
      "text/plain": [
       "          percent_missing(%)\n",
       "age                      0.0\n",
       "sex                      0.0\n",
       "cp                       0.0\n",
       "trestbps                 0.0\n",
       "chol                     0.0\n",
       "fbs                      0.0\n",
       "restecg                  0.0\n",
       "thalach                  0.0\n",
       "exang                    0.0\n",
       "oldpeak                  0.0\n",
       "slope                    0.0\n",
       "ca                       0.0\n",
       "thal                     0.0\n",
       "target                   0.0"
      ]
     },
     "execution_count": 11,
     "metadata": {},
     "output_type": "execute_result"
    }
   ],
   "source": [
    "# Check % of missing values\n",
    "percent_missing = data_df.isnull().sum() * 100 / len(data_df)\n",
    "missing_value_df = pd.DataFrame({'percent_missing(%)': percent_missing})\n",
    "missing_value_df"
   ]
  },
  {
   "cell_type": "markdown",
   "id": "e6f7a0be-143d-436d-8a5e-831550e2cf0c",
   "metadata": {},
   "source": [
    "### 📍 No missing data model stats\n",
    "\n",
    "Lets look at the model metrics for given dataset having no missing values."
   ]
  },
  {
   "cell_type": "code",
   "execution_count": 18,
   "id": "d35bb777-19f4-4f5f-a0ab-eb3accf35f92",
   "metadata": {},
   "outputs": [
    {
     "data": {
      "text/plain": [
       "Index(['age', 'sex', 'cp', 'trestbps', 'chol', 'fbs', 'restecg', 'thalach',\n",
       "       'exang', 'oldpeak', 'slope', 'ca', 'thal', 'target'],\n",
       "      dtype='object')"
      ]
     },
     "execution_count": 18,
     "metadata": {},
     "output_type": "execute_result"
    }
   ],
   "source": [
    "data_df.columns"
   ]
  },
  {
   "cell_type": "code",
   "execution_count": 19,
   "id": "6eb786a8-8494-4a70-be1d-1c4a6809309d",
   "metadata": {},
   "outputs": [],
   "source": [
    "df_no_missing = data_df.copy()\n",
    "cols = ['age', 'sex', 'cp', 'trestbps', 'chol', 'fbs', 'restecg', 'thalach',\n",
    "       'exang', 'oldpeak', 'slope', 'ca', 'thal']\n",
    "X = df_no_missing[cols]\n",
    "y = df_no_missing['target']"
   ]
  },
  {
   "cell_type": "code",
   "execution_count": 24,
   "id": "bea13820-de6a-404f-a141-f0613a78f699",
   "metadata": {},
   "outputs": [
    {
     "name": "stdout",
     "output_type": "stream",
     "text": [
      "----- Model Accuracy -----\n",
      "Accuracy of logistic regression classifier on test set: 0.84\n",
      "=====================================================================================================\n",
      "----- Confusion Matrix -----\n",
      "[[33 11]\n",
      " [ 4 43]]\n",
      "Number of correct predictions : 44\n",
      "Number of Incorrect predictions : 47\n",
      "=====================================================================================================\n",
      "----- Classification Report -----\n",
      "              precision    recall  f1-score   support\n",
      "\n",
      "           0       0.89      0.75      0.81        44\n",
      "           1       0.80      0.91      0.85        47\n",
      "\n",
      "    accuracy                           0.84        91\n",
      "   macro avg       0.84      0.83      0.83        91\n",
      "weighted avg       0.84      0.84      0.83        91\n",
      "\n",
      "=====================================================================================================\n",
      "----- ROC AUC Score -----\n",
      "0.8324468085106383\n"
     ]
    },
    {
     "name": "stderr",
     "output_type": "stream",
     "text": [
      "/home/zutshi.k/.conda/envs/pytorch_kz_env/lib/python3.7/site-packages/sklearn/linear_model/_logistic.py:818: ConvergenceWarning: lbfgs failed to converge (status=1):\n",
      "STOP: TOTAL NO. of ITERATIONS REACHED LIMIT.\n",
      "\n",
      "Increase the number of iterations (max_iter) or scale the data as shown in:\n",
      "    https://scikit-learn.org/stable/modules/preprocessing.html\n",
      "Please also refer to the documentation for alternative solver options:\n",
      "    https://scikit-learn.org/stable/modules/linear_model.html#logistic-regression\n",
      "  extra_warning_msg=_LOGISTIC_SOLVER_CONVERGENCE_MSG,\n"
     ]
    }
   ],
   "source": [
    "logisticRegressionModelStats(X,y)"
   ]
  },
  {
   "cell_type": "markdown",
   "id": "b2f8987f-76fd-4ad0-9104-a174ac128c97",
   "metadata": {},
   "source": [
    "Let add some missing values to the dataset, say 10% of data is missing"
   ]
  },
  {
   "cell_type": "code",
   "execution_count": 13,
   "id": "84701616-dc26-4bcc-bc75-f88bdd15e18a",
   "metadata": {},
   "outputs": [],
   "source": [
    "df_cols = ['age', 'chol', 'trestbps', 'thalach']\n",
    "df_missing = data_df.copy()\n",
    "for col in df_cols:\n",
    "    df_missing.loc[df_missing.sample(frac=0.1).index, col] = np.nan"
   ]
  },
  {
   "cell_type": "code",
   "execution_count": 14,
   "id": "de0bf4a9-b69b-4706-9ad6-86a58c37f392",
   "metadata": {},
   "outputs": [
    {
     "data": {
      "text/html": [
       "<div>\n",
       "<style scoped>\n",
       "    .dataframe tbody tr th:only-of-type {\n",
       "        vertical-align: middle;\n",
       "    }\n",
       "\n",
       "    .dataframe tbody tr th {\n",
       "        vertical-align: top;\n",
       "    }\n",
       "\n",
       "    .dataframe thead th {\n",
       "        text-align: right;\n",
       "    }\n",
       "</style>\n",
       "<table border=\"1\" class=\"dataframe\">\n",
       "  <thead>\n",
       "    <tr style=\"text-align: right;\">\n",
       "      <th></th>\n",
       "      <th>percent_missing(%)</th>\n",
       "    </tr>\n",
       "  </thead>\n",
       "  <tbody>\n",
       "    <tr>\n",
       "      <th>age</th>\n",
       "      <td>9.90099</td>\n",
       "    </tr>\n",
       "    <tr>\n",
       "      <th>sex</th>\n",
       "      <td>0.00000</td>\n",
       "    </tr>\n",
       "    <tr>\n",
       "      <th>cp</th>\n",
       "      <td>0.00000</td>\n",
       "    </tr>\n",
       "    <tr>\n",
       "      <th>trestbps</th>\n",
       "      <td>9.90099</td>\n",
       "    </tr>\n",
       "    <tr>\n",
       "      <th>chol</th>\n",
       "      <td>9.90099</td>\n",
       "    </tr>\n",
       "    <tr>\n",
       "      <th>fbs</th>\n",
       "      <td>0.00000</td>\n",
       "    </tr>\n",
       "    <tr>\n",
       "      <th>restecg</th>\n",
       "      <td>0.00000</td>\n",
       "    </tr>\n",
       "    <tr>\n",
       "      <th>thalach</th>\n",
       "      <td>9.90099</td>\n",
       "    </tr>\n",
       "    <tr>\n",
       "      <th>exang</th>\n",
       "      <td>0.00000</td>\n",
       "    </tr>\n",
       "    <tr>\n",
       "      <th>oldpeak</th>\n",
       "      <td>0.00000</td>\n",
       "    </tr>\n",
       "    <tr>\n",
       "      <th>slope</th>\n",
       "      <td>0.00000</td>\n",
       "    </tr>\n",
       "    <tr>\n",
       "      <th>ca</th>\n",
       "      <td>0.00000</td>\n",
       "    </tr>\n",
       "    <tr>\n",
       "      <th>thal</th>\n",
       "      <td>0.00000</td>\n",
       "    </tr>\n",
       "    <tr>\n",
       "      <th>target</th>\n",
       "      <td>0.00000</td>\n",
       "    </tr>\n",
       "  </tbody>\n",
       "</table>\n",
       "</div>"
      ],
      "text/plain": [
       "          percent_missing(%)\n",
       "age                  9.90099\n",
       "sex                  0.00000\n",
       "cp                   0.00000\n",
       "trestbps             9.90099\n",
       "chol                 9.90099\n",
       "fbs                  0.00000\n",
       "restecg              0.00000\n",
       "thalach              9.90099\n",
       "exang                0.00000\n",
       "oldpeak              0.00000\n",
       "slope                0.00000\n",
       "ca                   0.00000\n",
       "thal                 0.00000\n",
       "target               0.00000"
      ]
     },
     "execution_count": 14,
     "metadata": {},
     "output_type": "execute_result"
    }
   ],
   "source": [
    "# Lets check % missing data again\n",
    "percent_missing = df_missing.isnull().sum() * 100 / len(df_missing)\n",
    "missing_value_df1 = pd.DataFrame({'percent_missing(%)': percent_missing})\n",
    "missing_value_df1"
   ]
  },
  {
   "cell_type": "code",
   "execution_count": 15,
   "id": "7b7fced9-4032-47f2-9d17-bff2fec3be65",
   "metadata": {},
   "outputs": [
    {
     "data": {
      "text/html": [
       "<div>\n",
       "<style scoped>\n",
       "    .dataframe tbody tr th:only-of-type {\n",
       "        vertical-align: middle;\n",
       "    }\n",
       "\n",
       "    .dataframe tbody tr th {\n",
       "        vertical-align: top;\n",
       "    }\n",
       "\n",
       "    .dataframe thead th {\n",
       "        text-align: right;\n",
       "    }\n",
       "</style>\n",
       "<table border=\"1\" class=\"dataframe\">\n",
       "  <thead>\n",
       "    <tr style=\"text-align: right;\">\n",
       "      <th></th>\n",
       "      <th>age</th>\n",
       "      <th>sex</th>\n",
       "      <th>cp</th>\n",
       "      <th>trestbps</th>\n",
       "      <th>chol</th>\n",
       "      <th>fbs</th>\n",
       "      <th>restecg</th>\n",
       "      <th>thalach</th>\n",
       "      <th>exang</th>\n",
       "      <th>oldpeak</th>\n",
       "      <th>slope</th>\n",
       "      <th>ca</th>\n",
       "      <th>thal</th>\n",
       "      <th>target</th>\n",
       "    </tr>\n",
       "  </thead>\n",
       "  <tbody>\n",
       "    <tr>\n",
       "      <th>179</th>\n",
       "      <td>57.0</td>\n",
       "      <td>1</td>\n",
       "      <td>0</td>\n",
       "      <td>150.0</td>\n",
       "      <td>276.0</td>\n",
       "      <td>0</td>\n",
       "      <td>0</td>\n",
       "      <td>NaN</td>\n",
       "      <td>1</td>\n",
       "      <td>0.6</td>\n",
       "      <td>1</td>\n",
       "      <td>1</td>\n",
       "      <td>1</td>\n",
       "      <td>0</td>\n",
       "    </tr>\n",
       "    <tr>\n",
       "      <th>259</th>\n",
       "      <td>38.0</td>\n",
       "      <td>1</td>\n",
       "      <td>3</td>\n",
       "      <td>120.0</td>\n",
       "      <td>231.0</td>\n",
       "      <td>0</td>\n",
       "      <td>1</td>\n",
       "      <td>NaN</td>\n",
       "      <td>1</td>\n",
       "      <td>3.8</td>\n",
       "      <td>1</td>\n",
       "      <td>0</td>\n",
       "      <td>3</td>\n",
       "      <td>0</td>\n",
       "    </tr>\n",
       "    <tr>\n",
       "      <th>267</th>\n",
       "      <td>49.0</td>\n",
       "      <td>1</td>\n",
       "      <td>2</td>\n",
       "      <td>118.0</td>\n",
       "      <td>149.0</td>\n",
       "      <td>0</td>\n",
       "      <td>0</td>\n",
       "      <td>126.0</td>\n",
       "      <td>0</td>\n",
       "      <td>0.8</td>\n",
       "      <td>2</td>\n",
       "      <td>3</td>\n",
       "      <td>2</td>\n",
       "      <td>0</td>\n",
       "    </tr>\n",
       "    <tr>\n",
       "      <th>5</th>\n",
       "      <td>57.0</td>\n",
       "      <td>1</td>\n",
       "      <td>0</td>\n",
       "      <td>140.0</td>\n",
       "      <td>192.0</td>\n",
       "      <td>0</td>\n",
       "      <td>1</td>\n",
       "      <td>148.0</td>\n",
       "      <td>0</td>\n",
       "      <td>0.4</td>\n",
       "      <td>1</td>\n",
       "      <td>0</td>\n",
       "      <td>1</td>\n",
       "      <td>1</td>\n",
       "    </tr>\n",
       "    <tr>\n",
       "      <th>3</th>\n",
       "      <td>56.0</td>\n",
       "      <td>1</td>\n",
       "      <td>1</td>\n",
       "      <td>120.0</td>\n",
       "      <td>236.0</td>\n",
       "      <td>0</td>\n",
       "      <td>1</td>\n",
       "      <td>178.0</td>\n",
       "      <td>0</td>\n",
       "      <td>0.8</td>\n",
       "      <td>2</td>\n",
       "      <td>0</td>\n",
       "      <td>2</td>\n",
       "      <td>1</td>\n",
       "    </tr>\n",
       "  </tbody>\n",
       "</table>\n",
       "</div>"
      ],
      "text/plain": [
       "      age  sex  cp  trestbps   chol  fbs  restecg  thalach  exang  oldpeak  \\\n",
       "179  57.0    1   0     150.0  276.0    0        0      NaN      1      0.6   \n",
       "259  38.0    1   3     120.0  231.0    0        1      NaN      1      3.8   \n",
       "267  49.0    1   2     118.0  149.0    0        0    126.0      0      0.8   \n",
       "5    57.0    1   0     140.0  192.0    0        1    148.0      0      0.4   \n",
       "3    56.0    1   1     120.0  236.0    0        1    178.0      0      0.8   \n",
       "\n",
       "     slope  ca  thal  target  \n",
       "179      1   1     1       0  \n",
       "259      1   0     3       0  \n",
       "267      2   3     2       0  \n",
       "5        1   0     1       1  \n",
       "3        2   0     2       1  "
      ]
     },
     "execution_count": 15,
     "metadata": {},
     "output_type": "execute_result"
    }
   ],
   "source": [
    "df_missing.sample(5)"
   ]
  },
  {
   "cell_type": "markdown",
   "id": "7026a8ff-6668-4170-9b88-23352fa26fb4",
   "metadata": {},
   "source": [
    "#### Imputing missing values - Techniques\n",
    "\n",
    "#### 1. Imputation using mean/median values\n",
    "\n",
    "   This works by calculating the mean/median of the non-missing values in a column and then replacing the missing values within each column separately and independently from the others. **It can only be used with numeric data**.\n"
   ]
  },
  {
   "cell_type": "code",
   "execution_count": 29,
   "id": "f2739dd0-c7b9-484a-90d2-ae24ce7de086",
   "metadata": {},
   "outputs": [],
   "source": [
    "#Impute the values using scikit-learn SimpleImpute Class\n",
    "from sklearn.impute import SimpleImputer\n",
    "df_missing_impute_mean = df_missing.copy()\n",
    "imp_mean = SimpleImputer( strategy='mean') #for median imputation replace 'mean' with 'median'\n",
    "imp_mean.fit(df_missing_impute_mean)\n",
    "imputed_data_df = pd.DataFrame(imp_mean.transform(df_missing_impute_mean))"
   ]
  },
  {
   "cell_type": "code",
   "execution_count": 31,
   "id": "5ee818bc-8bc4-4962-a93f-c735cd9a3e35",
   "metadata": {},
   "outputs": [
    {
     "data": {
      "text/html": [
       "<div>\n",
       "<style scoped>\n",
       "    .dataframe tbody tr th:only-of-type {\n",
       "        vertical-align: middle;\n",
       "    }\n",
       "\n",
       "    .dataframe tbody tr th {\n",
       "        vertical-align: top;\n",
       "    }\n",
       "\n",
       "    .dataframe thead th {\n",
       "        text-align: right;\n",
       "    }\n",
       "</style>\n",
       "<table border=\"1\" class=\"dataframe\">\n",
       "  <thead>\n",
       "    <tr style=\"text-align: right;\">\n",
       "      <th></th>\n",
       "      <th>0</th>\n",
       "      <th>1</th>\n",
       "      <th>2</th>\n",
       "      <th>3</th>\n",
       "      <th>4</th>\n",
       "      <th>5</th>\n",
       "      <th>6</th>\n",
       "      <th>7</th>\n",
       "      <th>8</th>\n",
       "      <th>9</th>\n",
       "      <th>10</th>\n",
       "      <th>11</th>\n",
       "      <th>12</th>\n",
       "      <th>13</th>\n",
       "    </tr>\n",
       "  </thead>\n",
       "  <tbody>\n",
       "    <tr>\n",
       "      <th>129</th>\n",
       "      <td>74.0</td>\n",
       "      <td>0.0</td>\n",
       "      <td>1.0</td>\n",
       "      <td>132.032967</td>\n",
       "      <td>269.000000</td>\n",
       "      <td>0.0</td>\n",
       "      <td>0.0</td>\n",
       "      <td>121.000000</td>\n",
       "      <td>1.0</td>\n",
       "      <td>0.2</td>\n",
       "      <td>2.0</td>\n",
       "      <td>1.0</td>\n",
       "      <td>2.0</td>\n",
       "      <td>1.0</td>\n",
       "    </tr>\n",
       "    <tr>\n",
       "      <th>38</th>\n",
       "      <td>65.0</td>\n",
       "      <td>0.0</td>\n",
       "      <td>2.0</td>\n",
       "      <td>155.000000</td>\n",
       "      <td>269.000000</td>\n",
       "      <td>0.0</td>\n",
       "      <td>1.0</td>\n",
       "      <td>149.194139</td>\n",
       "      <td>0.0</td>\n",
       "      <td>0.8</td>\n",
       "      <td>2.0</td>\n",
       "      <td>0.0</td>\n",
       "      <td>2.0</td>\n",
       "      <td>1.0</td>\n",
       "    </tr>\n",
       "    <tr>\n",
       "      <th>255</th>\n",
       "      <td>45.0</td>\n",
       "      <td>1.0</td>\n",
       "      <td>0.0</td>\n",
       "      <td>142.000000</td>\n",
       "      <td>245.468864</td>\n",
       "      <td>0.0</td>\n",
       "      <td>0.0</td>\n",
       "      <td>147.000000</td>\n",
       "      <td>1.0</td>\n",
       "      <td>0.0</td>\n",
       "      <td>1.0</td>\n",
       "      <td>3.0</td>\n",
       "      <td>3.0</td>\n",
       "      <td>0.0</td>\n",
       "    </tr>\n",
       "    <tr>\n",
       "      <th>155</th>\n",
       "      <td>58.0</td>\n",
       "      <td>0.0</td>\n",
       "      <td>0.0</td>\n",
       "      <td>130.000000</td>\n",
       "      <td>197.000000</td>\n",
       "      <td>0.0</td>\n",
       "      <td>1.0</td>\n",
       "      <td>131.000000</td>\n",
       "      <td>0.0</td>\n",
       "      <td>0.6</td>\n",
       "      <td>1.0</td>\n",
       "      <td>0.0</td>\n",
       "      <td>2.0</td>\n",
       "      <td>1.0</td>\n",
       "    </tr>\n",
       "    <tr>\n",
       "      <th>127</th>\n",
       "      <td>67.0</td>\n",
       "      <td>0.0</td>\n",
       "      <td>2.0</td>\n",
       "      <td>152.000000</td>\n",
       "      <td>277.000000</td>\n",
       "      <td>0.0</td>\n",
       "      <td>1.0</td>\n",
       "      <td>172.000000</td>\n",
       "      <td>0.0</td>\n",
       "      <td>0.0</td>\n",
       "      <td>2.0</td>\n",
       "      <td>1.0</td>\n",
       "      <td>2.0</td>\n",
       "      <td>1.0</td>\n",
       "    </tr>\n",
       "  </tbody>\n",
       "</table>\n",
       "</div>"
      ],
      "text/plain": [
       "       0    1    2           3           4    5    6           7    8    9   \\\n",
       "129  74.0  0.0  1.0  132.032967  269.000000  0.0  0.0  121.000000  1.0  0.2   \n",
       "38   65.0  0.0  2.0  155.000000  269.000000  0.0  1.0  149.194139  0.0  0.8   \n",
       "255  45.0  1.0  0.0  142.000000  245.468864  0.0  0.0  147.000000  1.0  0.0   \n",
       "155  58.0  0.0  0.0  130.000000  197.000000  0.0  1.0  131.000000  0.0  0.6   \n",
       "127  67.0  0.0  2.0  152.000000  277.000000  0.0  1.0  172.000000  0.0  0.0   \n",
       "\n",
       "      10   11   12   13  \n",
       "129  2.0  1.0  2.0  1.0  \n",
       "38   2.0  0.0  2.0  1.0  \n",
       "255  1.0  3.0  3.0  0.0  \n",
       "155  1.0  0.0  2.0  1.0  \n",
       "127  2.0  1.0  2.0  1.0  "
      ]
     },
     "execution_count": 31,
     "metadata": {},
     "output_type": "execute_result"
    }
   ],
   "source": [
    "imputed_data_df.sample(5)"
   ]
  },
  {
   "cell_type": "markdown",
   "id": "f56607d9-e634-4936-b2b3-2e3f1ed59f3e",
   "metadata": {},
   "source": [
    "### 📍 Mean Imputation model metrics"
   ]
  },
  {
   "cell_type": "code",
   "execution_count": 33,
   "id": "3a8c1e4d-1de8-4113-994b-786dfe8bbeaa",
   "metadata": {},
   "outputs": [
    {
     "name": "stdout",
     "output_type": "stream",
     "text": [
      "----- Model Accuracy -----\n",
      "Accuracy of logistic regression classifier on test set: 0.81\n",
      "=====================================================================================================\n",
      "----- Confusion Matrix -----\n",
      "[[33 11]\n",
      " [ 6 41]]\n",
      "Number of correct predictions : 44\n",
      "Number of Incorrect predictions : 47\n",
      "=====================================================================================================\n",
      "----- Classification Report -----\n",
      "              precision    recall  f1-score   support\n",
      "\n",
      "         0.0       0.85      0.75      0.80        44\n",
      "         1.0       0.79      0.87      0.83        47\n",
      "\n",
      "    accuracy                           0.81        91\n",
      "   macro avg       0.82      0.81      0.81        91\n",
      "weighted avg       0.82      0.81      0.81        91\n",
      "\n",
      "=====================================================================================================\n",
      "----- ROC AUC Score -----\n",
      "0.8111702127659575\n"
     ]
    },
    {
     "name": "stderr",
     "output_type": "stream",
     "text": [
      "/home/zutshi.k/.conda/envs/pytorch_kz_env/lib/python3.7/site-packages/sklearn/linear_model/_logistic.py:818: ConvergenceWarning: lbfgs failed to converge (status=1):\n",
      "STOP: TOTAL NO. of ITERATIONS REACHED LIMIT.\n",
      "\n",
      "Increase the number of iterations (max_iter) or scale the data as shown in:\n",
      "    https://scikit-learn.org/stable/modules/preprocessing.html\n",
      "Please also refer to the documentation for alternative solver options:\n",
      "    https://scikit-learn.org/stable/modules/linear_model.html#logistic-regression\n",
      "  extra_warning_msg=_LOGISTIC_SOLVER_CONVERGENCE_MSG,\n"
     ]
    }
   ],
   "source": [
    "X = imputed_data_df.iloc[:,:-1]\n",
    "y = imputed_data_df.iloc[: , -1]\n",
    "logisticRegressionModelStats(X,y)"
   ]
  },
  {
   "cell_type": "markdown",
   "id": "9c409447-8dd6-4f21-b490-7a87de27b3e6",
   "metadata": {},
   "source": [
    "#### 2. Imputation using Most frequent or Zero/Constant values\n",
    "\n",
    "   Most Frequent is another statistical strategy to impute missing values and It **works with categorical features** (strings or numerical representations) by replacing missing data with the most frequent values within each column."
   ]
  },
  {
   "cell_type": "code",
   "execution_count": 34,
   "id": "02d4c992-11a3-4724-a260-c53a04e573bf",
   "metadata": {},
   "outputs": [],
   "source": [
    "#Impute the values using scikit-learn SimpleImpute Class\n",
    "\n",
    "from sklearn.impute import SimpleImputer\n",
    "df_impute_most_freq = df_missing.copy()\n",
    "imp_mean = SimpleImputer( strategy='most_frequent')\n",
    "imp_mean.fit(df_impute_most_freq)\n",
    "imputed_mostFreq_df = pd.DataFrame(imp_mean.transform(df_impute_most_freq))"
   ]
  },
  {
   "cell_type": "markdown",
   "id": "730308ff-12ff-4aa7-8e6c-8937c74b815a",
   "metadata": {},
   "source": [
    "### 📍 Most Frequent Imputation model metrics"
   ]
  },
  {
   "cell_type": "code",
   "execution_count": 35,
   "id": "4fbfde87-9dcc-4994-a128-691fae4cfb77",
   "metadata": {},
   "outputs": [
    {
     "name": "stdout",
     "output_type": "stream",
     "text": [
      "----- Model Accuracy -----\n",
      "Accuracy of logistic regression classifier on test set: 0.82\n",
      "=====================================================================================================\n",
      "----- Confusion Matrix -----\n",
      "[[33 11]\n",
      " [ 5 42]]\n",
      "Number of correct predictions : 44\n",
      "Number of Incorrect predictions : 47\n",
      "=====================================================================================================\n",
      "----- Classification Report -----\n",
      "              precision    recall  f1-score   support\n",
      "\n",
      "         0.0       0.87      0.75      0.80        44\n",
      "         1.0       0.79      0.89      0.84        47\n",
      "\n",
      "    accuracy                           0.82        91\n",
      "   macro avg       0.83      0.82      0.82        91\n",
      "weighted avg       0.83      0.82      0.82        91\n",
      "\n",
      "=====================================================================================================\n",
      "----- ROC AUC Score -----\n",
      "0.8218085106382979\n"
     ]
    },
    {
     "name": "stderr",
     "output_type": "stream",
     "text": [
      "/home/zutshi.k/.conda/envs/pytorch_kz_env/lib/python3.7/site-packages/sklearn/linear_model/_logistic.py:818: ConvergenceWarning: lbfgs failed to converge (status=1):\n",
      "STOP: TOTAL NO. of ITERATIONS REACHED LIMIT.\n",
      "\n",
      "Increase the number of iterations (max_iter) or scale the data as shown in:\n",
      "    https://scikit-learn.org/stable/modules/preprocessing.html\n",
      "Please also refer to the documentation for alternative solver options:\n",
      "    https://scikit-learn.org/stable/modules/linear_model.html#logistic-regression\n",
      "  extra_warning_msg=_LOGISTIC_SOLVER_CONVERGENCE_MSG,\n"
     ]
    }
   ],
   "source": [
    "X = imputed_mostFreq_df.iloc[:,:-1]\n",
    "y = imputed_mostFreq_df.iloc[: , -1]\n",
    "logisticRegressionModelStats(X,y)"
   ]
  },
  {
   "cell_type": "markdown",
   "id": "43983ca4-364c-49f6-9cfd-53395f028d56",
   "metadata": {},
   "source": [
    "#### 3. Imputation using K-NN (K nearest neighbours)\n",
    "   \n",
    "   \n",
    "  The k nearest neighbours is an algorithm that is used for simple classification. The algorithm uses **‘feature similarity’** to predict the values of any new data points. This means that the new point is assigned a value based on how closely it resembles the points in the training set. This can be very useful in making predictions about the missing values by **finding the k’s closest neighbours to the observation with missing data and then imputing them based on the non-missing values in the neighbourhood**. Using Impyute library which provides a simple and easy way to use KNN for imputation we can perform the operation on missing values.\n",
    "  \n",
    "  Pros - \n",
    "  \n",
    "    1. Can be much more accurate than the mean, median or most frequent imputation methods (depending on the dataset)\n",
    "  \n",
    "  Cons - \n",
    "  \n",
    "    1. Computationally expensive. KNN works by storing the whole training dataset in memory.\n",
    "    2. K-NN is quite sensitive to outliers in the data (unlike SVM)"
   ]
  },
  {
   "cell_type": "code",
   "execution_count": 58,
   "id": "5dfe5876-c64f-4057-908b-bad175791f34",
   "metadata": {},
   "outputs": [],
   "source": [
    "from impyute.imputation.cs import fast_knn\n",
    "\n",
    "df_impute_KNN = df_missing.copy()\n",
    "# start the KNN training\n",
    "imputed_df_knn = pd.DataFrame(fast_knn(df_impute_KNN.values, k=20))"
   ]
  },
  {
   "cell_type": "markdown",
   "id": "3b782894-d7e2-480b-912d-7c2a6dbfb3da",
   "metadata": {},
   "source": [
    "### 📍 KNN Imputation model metrics"
   ]
  },
  {
   "cell_type": "code",
   "execution_count": 59,
   "id": "428535a9-813c-447b-abb7-c9a55df3d5d6",
   "metadata": {},
   "outputs": [
    {
     "name": "stdout",
     "output_type": "stream",
     "text": [
      "----- Model Accuracy -----\n",
      "Accuracy of logistic regression classifier on test set: 0.82\n",
      "=====================================================================================================\n",
      "----- Confusion Matrix -----\n",
      "[[33 11]\n",
      " [ 5 42]]\n",
      "Number of correct predictions : 44\n",
      "Number of Incorrect predictions : 47\n",
      "=====================================================================================================\n",
      "----- Classification Report -----\n",
      "              precision    recall  f1-score   support\n",
      "\n",
      "         0.0       0.87      0.75      0.80        44\n",
      "         1.0       0.79      0.89      0.84        47\n",
      "\n",
      "    accuracy                           0.82        91\n",
      "   macro avg       0.83      0.82      0.82        91\n",
      "weighted avg       0.83      0.82      0.82        91\n",
      "\n",
      "=====================================================================================================\n",
      "----- ROC AUC Score -----\n",
      "0.8218085106382979\n"
     ]
    },
    {
     "name": "stderr",
     "output_type": "stream",
     "text": [
      "/home/zutshi.k/.conda/envs/pytorch_kz_env/lib/python3.7/site-packages/sklearn/linear_model/_logistic.py:818: ConvergenceWarning: lbfgs failed to converge (status=1):\n",
      "STOP: TOTAL NO. of ITERATIONS REACHED LIMIT.\n",
      "\n",
      "Increase the number of iterations (max_iter) or scale the data as shown in:\n",
      "    https://scikit-learn.org/stable/modules/preprocessing.html\n",
      "Please also refer to the documentation for alternative solver options:\n",
      "    https://scikit-learn.org/stable/modules/linear_model.html#logistic-regression\n",
      "  extra_warning_msg=_LOGISTIC_SOLVER_CONVERGENCE_MSG,\n"
     ]
    }
   ],
   "source": [
    "\n",
    "X = imputed_df_knn.iloc[:,:-1]\n",
    "y = imputed_df_knn.iloc[: , -1]\n",
    "logisticRegressionModelStats(X,y)"
   ]
  },
  {
   "cell_type": "markdown",
   "id": "4e9754fa-2056-4c33-bf43-e916c75d4597",
   "metadata": {},
   "source": [
    "#### 4. Imputation Using Multivariate Imputation by Chained Equation (MICE)\n",
    "\n",
    "This type of imputation works by filling the missing data multiple times. Multiple Imputations (MIs) are much better than a single imputation as it measures the uncertainty of the missing values in a better way. \n",
    "\n",
    "The chained equations approach is also very flexible and **can handle different variables of different data types (ie., continuous or binary) as well as complexities such as bounds or survey skip patterns.**\n",
    "\n",
    "[Reference paper - MICE](https://www.jstatsoft.org/article/view/v045i03/v45i03.pdf)"
   ]
  },
  {
   "cell_type": "code",
   "execution_count": 62,
   "id": "f36d0f90-b7fd-406d-bffd-b7bfd224e1b7",
   "metadata": {},
   "outputs": [],
   "source": [
    "from impyute.imputation.cs import mice\n",
    "\n",
    "df_impute_mice = df_missing.copy()\n",
    "# start the MICE training\n",
    "imputed_df_mice=pd.DataFrame(mice(df_impute_mice.values))"
   ]
  },
  {
   "cell_type": "markdown",
   "id": "5ef12640-72ec-48e8-8d42-59ac10e868b9",
   "metadata": {},
   "source": [
    "### 📍 MICE Imputation model metrics"
   ]
  },
  {
   "cell_type": "code",
   "execution_count": 66,
   "id": "8364ba91-1a28-46fc-8bf3-05cc8d6a59b5",
   "metadata": {},
   "outputs": [
    {
     "name": "stdout",
     "output_type": "stream",
     "text": [
      "----- Model Accuracy -----\n",
      "Accuracy of logistic regression classifier on test set: 0.82\n",
      "=====================================================================================================\n",
      "----- Confusion Matrix -----\n",
      "[[33 11]\n",
      " [ 5 42]]\n",
      "Number of correct predictions : 44\n",
      "Number of Incorrect predictions : 47\n",
      "=====================================================================================================\n",
      "----- Classification Report -----\n",
      "              precision    recall  f1-score   support\n",
      "\n",
      "         0.0       0.87      0.75      0.80        44\n",
      "         1.0       0.79      0.89      0.84        47\n",
      "\n",
      "    accuracy                           0.82        91\n",
      "   macro avg       0.83      0.82      0.82        91\n",
      "weighted avg       0.83      0.82      0.82        91\n",
      "\n",
      "=====================================================================================================\n",
      "----- ROC AUC Score -----\n",
      "0.8218085106382979\n"
     ]
    },
    {
     "name": "stderr",
     "output_type": "stream",
     "text": [
      "/home/zutshi.k/.conda/envs/pytorch_kz_env/lib/python3.7/site-packages/sklearn/linear_model/_logistic.py:818: ConvergenceWarning: lbfgs failed to converge (status=1):\n",
      "STOP: TOTAL NO. of ITERATIONS REACHED LIMIT.\n",
      "\n",
      "Increase the number of iterations (max_iter) or scale the data as shown in:\n",
      "    https://scikit-learn.org/stable/modules/preprocessing.html\n",
      "Please also refer to the documentation for alternative solver options:\n",
      "    https://scikit-learn.org/stable/modules/linear_model.html#logistic-regression\n",
      "  extra_warning_msg=_LOGISTIC_SOLVER_CONVERGENCE_MSG,\n"
     ]
    }
   ],
   "source": [
    "\n",
    "X = imputed_df_mice.iloc[:,:-1]\n",
    "y = imputed_df_mice.iloc[: , -1]\n",
    "logisticRegressionModelStats(X,y)\n"
   ]
  },
  {
   "cell_type": "markdown",
   "id": "2816653d-6388-4dc8-9fb4-692c28b765c1",
   "metadata": {},
   "source": [
    "#### 5. Imputation using Deep Learning - Datawig\n",
    "\n",
    "   This method **works very well with categorical and non-numerical features**. It is a library that learns Machine Learning models using Deep Neural Networks to impute missing values in a dataframe. It also supports both CPU and GPU for training.\n",
    "   \n",
    "   Pros:\n",
    "\n",
    "    Quite accurate compared to other methods.\n",
    "    It has some functions that can handle categorical data (Feature Encoder).\n",
    "    It supports CPUs and GPUs.\n",
    "\n",
    "Cons:\n",
    "\n",
    "    Single Column imputation.\n",
    "    Can be quite slow with large datasets.\n",
    "    You have to specify the columns that contain information about the target column that will be imputed."
   ]
  },
  {
   "cell_type": "code",
   "execution_count": 249,
   "id": "b35989fa-5e15-4395-aa61-7e578c4d471f",
   "metadata": {},
   "outputs": [],
   "source": [
    "import datawig\n",
    "\n",
    "data_df5 = data_df.copy()\n",
    "df_train, df_test = datawig.utils.random_split(data_df5)\n",
    "\n",
    "#Initialize a SimpleImputer model\n",
    "imputer = datawig.SimpleImputer(\n",
    "    input_columns=['1','2','3','4','5','6','7', 'target'], # column(s) containing information about the column we want to impute\n",
    "    output_column= '0', # the column we'd like to impute values for\n",
    "    output_path = 'imputer_model' # stores model data and metrics\n",
    "    )\n",
    "\n",
    "#Fit an imputer model on the train data\n",
    "imputer.fit(train_df=df_train, num_epochs=50)\n",
    "\n",
    "#Impute missing values and return original dataframe with predictions\n",
    "imputed = imputer.predict(df_test)"
   ]
  },
  {
   "cell_type": "markdown",
   "id": "c9a3bccc-0459-4768-b83e-9a42e7ca8b19",
   "metadata": {},
   "source": [
    "### 📝 Missing values Imputation methods Inference\n",
    "\n",
    "- Given the small dataset size, the Simpleimputer method of mean/median or most frequent gave best ROC AUC score.\n",
    "- For larger datasets MICE technique/KNN can be promising\n",
    "- Datawig method is very powerful but we can only pass 1 coloumn to impute at a time."
   ]
  },
  {
   "cell_type": "code",
   "execution_count": 263,
   "id": "78a64b63-5efc-4583-b1ac-1a6cdb92fed3",
   "metadata": {},
   "outputs": [],
   "source": [
    "def show_values(axs, orient=\"v\", space=.01):\n",
    "    def _single(ax):\n",
    "        if orient == \"v\":\n",
    "            for p in ax.patches:\n",
    "                _x = p.get_x() + p.get_width() / 2\n",
    "                _y = p.get_y() + p.get_height() + (p.get_height()*0.01)\n",
    "                value = '{:.5f}'.format(p.get_height())\n",
    "                ax.text(_x, _y, value, ha=\"center\") \n",
    "        elif orient == \"h\":\n",
    "            for p in ax.patches:\n",
    "                _x = p.get_x() + p.get_width() + float(space)\n",
    "                _y = p.get_y() + p.get_height() - (p.get_height()*0.5)\n",
    "                value = '{:.5f}'.format(p.get_width())\n",
    "                ax.text(_x, _y, value, ha=\"left\")\n",
    "\n",
    "    if isinstance(axs, np.ndarray):\n",
    "        for idx, ax in np.ndenumerate(axs):\n",
    "            _single(ax)\n",
    "    else:\n",
    "        _single(axs)"
   ]
  },
  {
   "cell_type": "code",
   "execution_count": 269,
   "id": "43d7e22b-f935-41b8-b625-bb215121f1d9",
   "metadata": {},
   "outputs": [
    {
     "name": "stdout",
     "output_type": "stream",
     "text": [
      "\n",
      "\n"
     ]
    },
    {
     "data": {
      "image/png": "[encoded data removed]",
      "text/plain": [
       "<Figure size 1080x360 with 4 Axes>"
      ]
     },
     "metadata": {
      "needs_background": "light"
     },
     "output_type": "display_data"
    }
   ],
   "source": [
    "meanMetrics = {'Accuracy': '0.81000', 'ROC AUC Score': '0.81117'}\n",
    "mostfreqMetrics = {'Accuracy': '0.82000', 'ROC AUC Score': '0.82180'}\n",
    "knnMetrics = {'Accuracy': '0.82000', 'ROC AUC Score': '0.82180'}\n",
    "miceMetrics = {'Accuracy': '0.82000', 'ROC AUC Score': '0.82180'}\n",
    "# Metrics - accuracy and AUR ROC curve value\n",
    "# 4 methods\n",
    "\n",
    "# sns.barplot(x=keys, y=vals)\n",
    "\n",
    "fig, axes = plt.subplots(1, 4, figsize=(15, 5), sharey=True)\n",
    "fig.suptitle('Missing Values Imputation technique model metrics comparison')\n",
    "print('\\n')\n",
    "# mean imputation\n",
    "keys1 = list(meanMetrics.keys())\n",
    "# get values in the same order as keys, and parse percentage values\n",
    "vals1 = [float(meanMetrics[k][:-1]) for k in keys1]\n",
    "g = sns.barplot(ax=axes[0], x=keys1, y=vals1)\n",
    "show_values(g)\n",
    "axes[0].set_title('Mean Imputation')\n",
    "\n",
    "# most freq\n",
    "keys2 = list(mostfreqMetrics.keys())\n",
    "# get values in the same order as keys, and parse percentage values\n",
    "vals2 = [float(mostfreqMetrics[k][:-1]) for k in keys2]\n",
    "h = sns.barplot(ax=axes[1], x=keys2, y=vals2)\n",
    "show_values(h)\n",
    "axes[1].set_title('Most Frequent Imputation')\n",
    "\n",
    "# KNN\n",
    "keys3 = list(knnMetrics.keys())\n",
    "# get values in the same order as keys, and parse percentage values\n",
    "vals3 = [float(knnMetrics[k][:-1]) for k in keys3]\n",
    "i = sns.barplot(ax=axes[2], x=keys3, y=vals3)\n",
    "show_values(i)\n",
    "axes[2].set_title('KNN Imputation')\n",
    "\n",
    "# MICE\n",
    "keys4 = list(miceMetrics.keys())\n",
    "# get values in the same order as keys, and parse percentage values\n",
    "vals4 = [float(miceMetrics[k][:-1]) for k in keys4]\n",
    "j = sns.barplot(ax=axes[3], x=keys4, y=vals4)\n",
    "show_values(j)\n",
    "axes[3].set_title('MICE Imputation')\n",
    "\n",
    "plt.show()\n"
   ]
  },
  {
   "cell_type": "markdown",
   "id": "2a83152f-fa59-48d4-8cf6-8a65652cb54b",
   "metadata": {},
   "source": [
    "#### 4.2 Amount of Variation\n",
    "\n",
    "The variance is a measure of variability. It is calculated by taking the average of squared deviations from the mean. Variance tells us the degree of spread in the data set. The more spread the data, the larger the variance is in relation to the mean.\n",
    "\n",
    "This intepretation is more meaningful towards non-categorical columns."
   ]
  },
  {
   "cell_type": "code",
   "execution_count": 68,
   "id": "ad3f3019-519e-4778-89dc-7e17dcc08acb",
   "metadata": {},
   "outputs": [
    {
     "data": {
      "text/plain": [
       "age           82.484558\n",
       "sex            0.217166\n",
       "cp             1.065132\n",
       "trestbps     307.586453\n",
       "chol        2686.426748\n",
       "fbs            0.126877\n",
       "restecg        0.276528\n",
       "thalach      524.646406\n",
       "exang          0.220707\n",
       "oldpeak        1.348095\n",
       "slope          0.379735\n",
       "ca             1.045724\n",
       "thal           0.374883\n",
       "target         0.248836\n",
       "dtype: float64"
      ]
     },
     "execution_count": 68,
     "metadata": {},
     "output_type": "execute_result"
    }
   ],
   "source": [
    "data_df.var()"
   ]
  },
  {
   "cell_type": "markdown",
   "id": "3d1a633c-188f-405c-8fc5-bd69b21224ee",
   "metadata": {},
   "source": [
    "#### 4.3 Pairwise Correlation\n",
    "\n",
    "Pearson’s correlation coefficient — commonly denoted as r. This coefficient can be used to quantify the linear relationship between two distributions (or features) in a single metric\n",
    "\n",
    "```\n",
    "0.7 <= |r| < 1.0  Strong Correlation\n",
    "\n",
    "0.3 <= |r| < 0.7  Moderate Correlation\n",
    "\n",
    "0.0 <= |r| < 0.3  Weak Correlation\n",
    "\n",
    "```"
   ]
  },
  {
   "cell_type": "code",
   "execution_count": 69,
   "id": "a3b98815-a2f0-4a1f-a2d4-514ed3af7a2f",
   "metadata": {},
   "outputs": [
    {
     "data": {
      "image/png": "[encoded data removed]",
      "text/plain": [
       "<Figure size 1152x864 with 2 Axes>"
      ]
     },
     "metadata": {
      "needs_background": "light"
     },
     "output_type": "display_data"
    }
   ],
   "source": [
    "plt.figure(figsize=(16,12))\n",
    "matrix = data_df.corr()\n",
    "# Create a custom diverging palette\n",
    "cmap = sns.diverging_palette(250, 15, s=75, l=40,\n",
    "                             n=9, center=\"light\", as_cmap=True)\n",
    "\n",
    "_ = sns.heatmap(matrix, center=0, annot=True, \n",
    "                fmt='.2f', square=True, cmap=cmap)"
   ]
  },
  {
   "cell_type": "markdown",
   "id": "6789f8f8-2505-47f1-8c16-23a9b65607dc",
   "metadata": {},
   "source": [
    "As we can see, fbs has almost no correlation with any of the independent variables, thus suggesting its removal in feature selection."
   ]
  },
  {
   "cell_type": "markdown",
   "id": "c6cef599-3eec-4697-9a7b-7e43f726ab10",
   "metadata": {},
   "source": [
    "#### 4.4 Outlier Detection and Removal\n",
    "\n",
    "From the EDA done previously using seaborn boxplots we could see the presence of outliers in the following independent variables - \n",
    "\n",
    "1. chol\n",
    "2. trestbps\n",
    "3. thalach\n",
    "\n",
    "Methods to detect and remove outliers - \n",
    "\n",
    "- Standard Deviation Method\n",
    "- Interquartile Range Method\n",
    "\n",
    "[youtube reference - Outlier removal basics](https://www.youtube.com/watch?v=Vc4cXIAa69Y)"
   ]
  },
  {
   "cell_type": "markdown",
   "id": "2957ec1c-491a-4973-8d30-d1127ac8e0b5",
   "metadata": {},
   "source": [
    "#### Standard Deviation Method"
   ]
  },
  {
   "cell_type": "code",
   "execution_count": 129,
   "id": "977fb496-2cea-4337-a1c5-225fc3d89366",
   "metadata": {},
   "outputs": [],
   "source": [
    "# Standard deviation method\n",
    "\n",
    "\n",
    "\n",
    "from numpy import mean\n",
    "from numpy import std\n",
    "\n",
    "def outlierDetection_SDM(df, feature):\n",
    "   \n",
    "    \n",
    "    # calculate summary statistics\n",
    "    df_feature_mean, df_feature_std = mean(df[feature]), std(df[feature])\n",
    "    print(df_feature_mean, df_feature_std)\n",
    "    # identify outliers\n",
    "    cut_off = df_feature_std * 3\n",
    "    lower, upper = df_feature_mean - cut_off, df_feature_mean + cut_off\n",
    "    print(lower, upper)\n",
    "    # Return a list of index of outliers \n",
    "    ls = df.index[(df[feature] < lower) | (df[feature] > upper)]\n",
    "    \n",
    "    return ls\n",
    "#     outliers = [x for x in data if x < lower or x > upper]\n",
    "#     print('Identified outliers: %d' % len(outliers))\n",
    "#     print('Outlier Values', outliers)\n",
    "#     data = [x for x in data if x >= lower and x <= upper]\n",
    "#     return data"
   ]
  },
  {
   "cell_type": "code",
   "execution_count": 130,
   "id": "14cc11e5-d914-4464-857c-bd8a9c9bcb01",
   "metadata": {},
   "outputs": [],
   "source": [
    "df_no_missing_SDM = df_no_missing.copy()"
   ]
  },
  {
   "cell_type": "code",
   "execution_count": 133,
   "id": "76a00dfe-4355-4876-b836-1226fca4c929",
   "metadata": {},
   "outputs": [
    {
     "data": {
      "text/plain": [
       "(303, 14)"
      ]
     },
     "execution_count": 133,
     "metadata": {},
     "output_type": "execute_result"
    }
   ],
   "source": [
    "df_no_missing_SDM.shape"
   ]
  },
  {
   "cell_type": "code",
   "execution_count": 131,
   "id": "7024d0a8-8c55-43ac-a5b0-60ca761d77f8",
   "metadata": {},
   "outputs": [
    {
     "name": "stdout",
     "output_type": "stream",
     "text": [
      "246.26402640264027 51.74515101045713\n",
      "91.02857337126889 401.4994794340116\n",
      "131.62376237623764 17.509178065734393\n",
      "79.09622817903445 184.15129657344082\n",
      "149.64686468646866 22.86733258188924\n",
      "81.04486694080094 218.24886243213638\n"
     ]
    }
   ],
   "source": [
    "# create an empty list to store the output indices from multiple rows\n",
    "index_list = []\n",
    "\n",
    "for feature in ['chol', 'trestbps', 'thalach']:\n",
    "    index_list.extend(outlierDetection_SDM(df_no_missing_SDM, feature))"
   ]
  },
  {
   "cell_type": "code",
   "execution_count": 132,
   "id": "fa690188-42df-4bc6-890d-d6ec46b5bd27",
   "metadata": {},
   "outputs": [
    {
     "data": {
      "text/plain": [
       "[28, 85, 220, 246, 223, 248, 272]"
      ]
     },
     "execution_count": 132,
     "metadata": {},
     "output_type": "execute_result"
    }
   ],
   "source": [
    "index_list"
   ]
  },
  {
   "cell_type": "code",
   "execution_count": 134,
   "id": "dcd0a43b-39aa-47c1-8465-419ddf9eaabd",
   "metadata": {},
   "outputs": [],
   "source": [
    "# define a function remove which returns a cleaned dataframe without outliers\n",
    "def removeOutliersSDM(df, ls):\n",
    "    ls = sorted(set(ls))\n",
    "    df = df.drop(ls)\n",
    "    return df"
   ]
  },
  {
   "cell_type": "code",
   "execution_count": 135,
   "id": "1e5b5718-fd0f-4c54-b416-f3b4e9c9e0f0",
   "metadata": {},
   "outputs": [],
   "source": [
    "df_SDM_removedOutliers = removeOutliersSDM(df_no_missing_SDM, index_list)"
   ]
  },
  {
   "cell_type": "markdown",
   "id": "e5a5c61d-017b-4fd4-ad03-a867588cba41",
   "metadata": {},
   "source": [
    "**As we can see the shape of the dataset has changed, removing the rows, it drops from 303 to 296 -> removed 7 outliers**"
   ]
  },
  {
   "cell_type": "code",
   "execution_count": 136,
   "id": "54955dd5-84a8-48fd-84c4-f7c63d8b65de",
   "metadata": {},
   "outputs": [
    {
     "data": {
      "text/plain": [
       "(296, 14)"
      ]
     },
     "execution_count": 136,
     "metadata": {},
     "output_type": "execute_result"
    }
   ],
   "source": [
    "df_SDM_removedOutliers.shape"
   ]
  },
  {
   "cell_type": "markdown",
   "id": "94a468e2-888b-42f5-acc4-17d634c908f2",
   "metadata": {},
   "source": [
    "### 📍 SD Outlier removal model metrics"
   ]
  },
  {
   "cell_type": "code",
   "execution_count": 246,
   "id": "c6e09470-67b4-49f1-a4bd-78a619be0fd1",
   "metadata": {},
   "outputs": [
    {
     "name": "stdout",
     "output_type": "stream",
     "text": [
      "----- Model Accuracy -----\n",
      "Accuracy of logistic regression classifier on test set: 0.84\n",
      "=====================================================================================================\n",
      "----- Confusion Matrix -----\n",
      "[[34 10]\n",
      " [ 4 41]]\n",
      "Number of correct predictions : 44\n",
      "Number of Incorrect predictions : 45\n",
      "=====================================================================================================\n",
      "----- Classification Report -----\n",
      "              precision    recall  f1-score   support\n",
      "\n",
      "           0       0.89      0.77      0.83        44\n",
      "           1       0.80      0.91      0.85        45\n",
      "\n",
      "    accuracy                           0.84        89\n",
      "   macro avg       0.85      0.84      0.84        89\n",
      "weighted avg       0.85      0.84      0.84        89\n",
      "\n",
      "=====================================================================================================\n",
      "----- ROC AUC Score -----\n",
      "0.841919191919192\n"
     ]
    },
    {
     "name": "stderr",
     "output_type": "stream",
     "text": [
      "/home/zutshi.k/.conda/envs/pytorch_kz_env/lib/python3.7/site-packages/sklearn/linear_model/_logistic.py:818: ConvergenceWarning: lbfgs failed to converge (status=1):\n",
      "STOP: TOTAL NO. of ITERATIONS REACHED LIMIT.\n",
      "\n",
      "Increase the number of iterations (max_iter) or scale the data as shown in:\n",
      "    https://scikit-learn.org/stable/modules/preprocessing.html\n",
      "Please also refer to the documentation for alternative solver options:\n",
      "    https://scikit-learn.org/stable/modules/linear_model.html#logistic-regression\n",
      "  extra_warning_msg=_LOGISTIC_SOLVER_CONVERGENCE_MSG,\n"
     ]
    }
   ],
   "source": [
    "X = df_SDM_removedOutliers.iloc[:,:-1]\n",
    "y = df_SDM_removedOutliers.iloc[: , -1]\n",
    "logisticRegressionModelStats(X,y)"
   ]
  },
  {
   "cell_type": "markdown",
   "id": "195d4633-564f-4e55-a913-a60b1f3507c8",
   "metadata": {},
   "source": [
    "#### Inter Quartile Range Method\n",
    "\n",
    "The IQR can be used to identify outliers by defining limits on the sample values that are a factor k of the IQR below the 25th percentile or above the 75th percentile. \n",
    "\n",
    "The common value for the factor k is the value 1.5. A factor k of 3 or more can be used to identify values that are extreme outliers or “far outs” when described in the context of box and whisker plots."
   ]
  },
  {
   "cell_type": "code",
   "execution_count": 238,
   "id": "1dccff30-cc57-423d-a6fc-c2538ad9d5d0",
   "metadata": {},
   "outputs": [],
   "source": [
    "# InterQuartile Range Method\n",
    "\n",
    "from numpy import percentile\n",
    "\n",
    "def outlierDetection_IQR(data, feature):\n",
    "    \n",
    "    # calculate interquartile range\n",
    "    q25, q75 = percentile(data[feature], 25), percentile(data[feature], 75)\n",
    "    iqr = q75 - q25\n",
    "    print('Percentiles: 25th = %.3f, 75th = %.3f, IQR = %.3f' % (q25, q75, iqr))\n",
    "    # calculate the outlier cutoff\n",
    "    cut_off = iqr * 1.5\n",
    "    lower, upper = q25 - cut_off, q75 + cut_off\n",
    "    \n",
    "    ls = data.index[(data[feature] < lower) | (data[feature] > upper)]\n",
    "#     for x in data[feature]:\n",
    "#         if x < lower or x > upper:\n",
    "#             ls = data.index[data[feature][x]]\n",
    "    return ls\n",
    "\n",
    "#     # identify outliers\n",
    "#     outliers = [x for x in data if x < lower or x > upper]\n",
    "#     print('Identified outliers: %d' % len(outliers))\n",
    "#     print('Outlier Values', outliers)"
   ]
  },
  {
   "cell_type": "code",
   "execution_count": 239,
   "id": "bd843796-d6d3-441b-b045-26360d091acd",
   "metadata": {},
   "outputs": [],
   "source": [
    "df_no_missing_IQR = df_no_missing.copy()"
   ]
  },
  {
   "cell_type": "code",
   "execution_count": 240,
   "id": "b8aebddf-94a7-467c-b584-6157ca050fd6",
   "metadata": {},
   "outputs": [
    {
     "data": {
      "text/plain": [
       "(303, 14)"
      ]
     },
     "execution_count": 240,
     "metadata": {},
     "output_type": "execute_result"
    }
   ],
   "source": [
    "df_no_missing_IQR.shape"
   ]
  },
  {
   "cell_type": "code",
   "execution_count": 241,
   "id": "07e448be-5f89-4c7f-a858-c81f48c854af",
   "metadata": {},
   "outputs": [
    {
     "name": "stdout",
     "output_type": "stream",
     "text": [
      "Percentiles: 25th = 211.000, 75th = 274.500, IQR = 63.500\n",
      "Percentiles: 25th = 120.000, 75th = 140.000, IQR = 20.000\n",
      "Percentiles: 25th = 133.500, 75th = 166.000, IQR = 32.500\n"
     ]
    }
   ],
   "source": [
    "# create an empty list to store the output indices from multiple rows\n",
    "index_listIQR = []\n",
    "\n",
    "for feature in ['chol', 'trestbps', 'thalach']:\n",
    "    index_listIQR.extend(outlierDetection_IQR(df_no_missing_IQR, feature))"
   ]
  },
  {
   "cell_type": "code",
   "execution_count": 242,
   "id": "c1b6e708-083c-4bb4-8171-aad6a71481e1",
   "metadata": {},
   "outputs": [
    {
     "data": {
      "text/plain": [
       "[28, 85, 96, 220, 246, 8, 101, 110, 203, 223, 241, 248, 260, 266, 272]"
      ]
     },
     "execution_count": 242,
     "metadata": {},
     "output_type": "execute_result"
    }
   ],
   "source": [
    "index_listIQR"
   ]
  },
  {
   "cell_type": "code",
   "execution_count": 243,
   "id": "685af8e0-8b78-4b16-831f-37ae96548928",
   "metadata": {},
   "outputs": [],
   "source": [
    "# define a function remove which returns a cleaned dataframe without outliers\n",
    "def removeOutliersIQR(df, ls):\n",
    "    ls = sorted(set(ls))\n",
    "    df = df.drop(ls)\n",
    "    return df"
   ]
  },
  {
   "cell_type": "code",
   "execution_count": 244,
   "id": "16d4a7f0-0302-4e85-95af-b359f398d922",
   "metadata": {},
   "outputs": [],
   "source": [
    "df_IQR_removedOutliers = removeOutliersIQR(df_no_missing_IQR, index_listIQR)"
   ]
  },
  {
   "cell_type": "code",
   "execution_count": 245,
   "id": "8202d45c-cff8-4fc5-9a2b-4e6f0bc51888",
   "metadata": {},
   "outputs": [
    {
     "data": {
      "text/plain": [
       "(288, 14)"
      ]
     },
     "execution_count": 245,
     "metadata": {},
     "output_type": "execute_result"
    }
   ],
   "source": [
    "df_IQR_removedOutliers.shape"
   ]
  },
  {
   "cell_type": "markdown",
   "id": "983c2d96-dfb8-4095-bb33-ec56457bd209",
   "metadata": {},
   "source": [
    "**As we can see the IQR method removed 15 rows from the dataset.**"
   ]
  },
  {
   "cell_type": "markdown",
   "id": "800cafb4-4652-4f9c-8142-9053e556f989",
   "metadata": {},
   "source": [
    "### 📍 IQR method outlier removal model metrics"
   ]
  },
  {
   "cell_type": "code",
   "execution_count": 247,
   "id": "93524083-ef6f-48db-a442-538b144100cd",
   "metadata": {},
   "outputs": [
    {
     "name": "stdout",
     "output_type": "stream",
     "text": [
      "----- Model Accuracy -----\n",
      "Accuracy of logistic regression classifier on test set: 0.83\n",
      "=====================================================================================================\n",
      "----- Confusion Matrix -----\n",
      "[[31 14]\n",
      " [ 1 41]]\n",
      "Number of correct predictions : 45\n",
      "Number of Incorrect predictions : 42\n",
      "=====================================================================================================\n",
      "----- Classification Report -----\n",
      "              precision    recall  f1-score   support\n",
      "\n",
      "           0       0.97      0.69      0.81        45\n",
      "           1       0.75      0.98      0.85        42\n",
      "\n",
      "    accuracy                           0.83        87\n",
      "   macro avg       0.86      0.83      0.83        87\n",
      "weighted avg       0.86      0.83      0.82        87\n",
      "\n",
      "=====================================================================================================\n",
      "----- ROC AUC Score -----\n",
      "0.8325396825396825\n"
     ]
    },
    {
     "name": "stderr",
     "output_type": "stream",
     "text": [
      "/home/zutshi.k/.conda/envs/pytorch_kz_env/lib/python3.7/site-packages/sklearn/linear_model/_logistic.py:818: ConvergenceWarning: lbfgs failed to converge (status=1):\n",
      "STOP: TOTAL NO. of ITERATIONS REACHED LIMIT.\n",
      "\n",
      "Increase the number of iterations (max_iter) or scale the data as shown in:\n",
      "    https://scikit-learn.org/stable/modules/preprocessing.html\n",
      "Please also refer to the documentation for alternative solver options:\n",
      "    https://scikit-learn.org/stable/modules/linear_model.html#logistic-regression\n",
      "  extra_warning_msg=_LOGISTIC_SOLVER_CONVERGENCE_MSG,\n"
     ]
    }
   ],
   "source": [
    "X = df_IQR_removedOutliers.iloc[:,:-1]\n",
    "y = df_IQR_removedOutliers.iloc[: , -1]\n",
    "logisticRegressionModelStats(X,y)"
   ]
  },
  {
   "cell_type": "markdown",
   "id": "39fdeb5c-531a-46fa-a46a-3c207c4d79fb",
   "metadata": {},
   "source": [
    "### 📝 Outlier removal methods Inference\n",
    "\n",
    "- The AUC score was better with Standard deviation method of removing outliers from dataset. Given the small dataset, SD did well. Although, for large datasets IQR method can give better results\n"
   ]
  },
  {
   "cell_type": "code",
   "execution_count": 270,
   "id": "0d4ce79f-e924-44f7-8924-a4d9f1ffec7f",
   "metadata": {},
   "outputs": [
    {
     "data": {
      "text/plain": [
       "Text(0.5, 1.0, 'Inter Quartile Range method')"
      ]
     },
     "execution_count": 270,
     "metadata": {},
     "output_type": "execute_result"
    },
    {
     "data": {
      "image/png": "[encoded data removed]",
      "text/plain": [
       "<Figure size 1080x360 with 2 Axes>"
      ]
     },
     "metadata": {
      "needs_background": "light"
     },
     "output_type": "display_data"
    }
   ],
   "source": [
    "SDOutlierRemovalMetrics = {'Accuracy': '0.84000', 'ROC AUC Score': '0.84191'}\n",
    "IQRMetrics = {'Accuracy': '0.83000', 'ROC AUC Score': '0.83253'}\n",
    "\n",
    "\n",
    "\n",
    "\n",
    "\n",
    "fig, axes = plt.subplots(1, 2, figsize=(15, 5), sharey=True)\n",
    "fig.suptitle('Outlier Removal technique model metrics comparison')\n",
    "\n",
    "# mean imputation\n",
    "keys1 = list(SDOutlierRemovalMetrics.keys())\n",
    "# get values in the same order as keys, and parse percentage values\n",
    "vals1 = [float(SDOutlierRemovalMetrics[k][:-1]) for k in keys1]\n",
    "g = sns.barplot(ax=axes[0], x=keys1, y=vals1)\n",
    "show_values(g)\n",
    "axes[0].set_title('Standard Deviation Method')\n",
    "\n",
    "# most freq\n",
    "keys2 = list(IQRMetrics.keys())\n",
    "# get values in the same order as keys, and parse percentage values\n",
    "vals2 = [float(IQRMetrics[k][:-1]) for k in keys2]\n",
    "h = sns.barplot(ax=axes[1], x=keys2, y=vals2)\n",
    "show_values(h)\n",
    "axes[1].set_title('Inter Quartile Range method')\n"
   ]
  },
  {
   "cell_type": "markdown",
   "id": "4dff8673-cf58-4f7e-9504-b7fa8d6e54f4",
   "metadata": {},
   "source": [
    "### 5. Data Modeling and metrics calculation function\n",
    "\n",
    "Here the model method and corresponding function definitions for model metrics are declared. These will help us understand if the data cleaning really helped in improving performance or not"
   ]
  },
  {
   "cell_type": "code",
   "execution_count": 23,
   "id": "7e290e3b-2649-4a43-a01a-38fd2500d9b9",
   "metadata": {},
   "outputs": [],
   "source": [
    "def logisticRegressionModelStats(X,y):\n",
    "    \n",
    "    from sklearn.linear_model import LogisticRegression\n",
    "    from sklearn import metrics\n",
    "    from sklearn.model_selection import train_test_split\n",
    "    X_train, X_test, y_train, y_test = train_test_split(X, y, test_size=0.3, random_state=0)\n",
    "    logreg = LogisticRegression()\n",
    "    logreg.fit(X_train, y_train)\n",
    "    \n",
    "    y_pred = logreg.predict(X_test)\n",
    "    print('----- Model Accuracy -----')\n",
    "    print('Accuracy of logistic regression classifier on test set: {:.2f}'.format(logreg.score(X_test, y_test)))\n",
    "    print('=====================================================================================================')\n",
    "    # Confusion Matrix\n",
    "    from sklearn.metrics import confusion_matrix\n",
    "    confusion_matrix = confusion_matrix(y_test, y_pred)\n",
    "    print('----- Confusion Matrix -----')\n",
    "    print(confusion_matrix)\n",
    "    print('Number of correct predictions : {}'.format(confusion_matrix[0][0]+confusion_matrix[0][1]))\n",
    "    print('Number of Incorrect predictions : {}'.format(confusion_matrix[1][0]+confusion_matrix[1][1]))\n",
    "    print('=====================================================================================================')\n",
    "    # Classification Report\n",
    "    from sklearn.metrics import classification_report\n",
    "    print('----- Classification Report -----')\n",
    "    print(classification_report(y_test, y_pred))\n",
    "    print('=====================================================================================================')\n",
    "    # ROC AUC score\n",
    "    from sklearn.metrics import roc_auc_score\n",
    "    logit_roc_auc = roc_auc_score(y_test, logreg.predict(X_test))\n",
    "    print('----- ROC AUC Score -----')\n",
    "    print(logit_roc_auc)"
   ]
  }
 ],
 "metadata": {
  "kernelspec": {
   "display_name": "pytorch_kz_env",
   "language": "python",
   "name": "pytorch_kz_env"
  },
  "language_info": {
   "codemirror_mode": {
    "name": "ipython",
    "version": 3
   },
   "file_extension": ".py",
   "mimetype": "text/x-python",
   "name": "python",
   "nbconvert_exporter": "python",
   "pygments_lexer": "ipython3",
   "version": "3.7.11"
  },
  "toc-showtags": false
 },
 "nbformat": 4,
 "nbformat_minor": 5
}
